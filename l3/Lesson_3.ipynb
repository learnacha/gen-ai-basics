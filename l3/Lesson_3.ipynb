{
  "cells": [
    {
      "cell_type": "code",
      "execution_count": null,
      "metadata": {
        "colab": {
          "base_uri": "https://localhost:8080/"
        },
        "id": "6ry2Lga8nPqU",
        "outputId": "ff9c4a94-2203-4b64-f1b7-75de70e377e7"
      },
      "outputs": [],
      "source": [
        "!pip install llama-index-llms-groq\n",
        "!pip install llama-index\n",
        "!pip install pdfplumber\n"
      ]
    },
    {
      "cell_type": "code",
      "execution_count": null,
      "metadata": {
        "id": "mpYu_AJ1nii1"
      },
      "outputs": [],
      "source": [
        "from llama_index.llms.groq import Groq\n",
        "import pdfplumber\n"
      ]
    },
    {
      "cell_type": "code",
      "execution_count": null,
      "metadata": {
        "id": "yhdSBDWknmlH"
      },
      "outputs": [],
      "source": [
        "# Create an API key at the Groq console (https://console.groq.com/keys)\n",
        "# Then set it to the environment variable GROQ_API_KEY or pass it directly\n",
        "\n",
        "api_key = \"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\"  # Replace with your actual API key\n",
        "llm = Groq(model=\"llama3-70b-8192\", api_key=api_key)\n"
      ]
    },
    {
      "cell_type": "code",
      "execution_count": null,
      "metadata": {
        "colab": {
          "base_uri": "https://localhost:8080/"
        },
        "id": "UNvBnppqpcE8",
        "outputId": "6c5e0b2b-624e-460e-e2eb-b68f8387fbe0"
      },
      "outputs": [
        {
          "name": "stdout",
          "output_type": "stream",
          "text": [
            "DrArvinSubramanian\n",
            "PhoneNumber:+919600038297\n",
            "Email:arvinaliasrv@gmail.com\n",
            "DOB:31.05.1991\n",
            "HoldaDoctorateDegreeinTechnologyAdoption(OTTTechnology).\n",
            "ExperienceinAI:\n",
            "AISolutionSpecialist\n",
            "AlpharithmTechnologies(AIsolutions-https://ai.alpharithm.com/)\n",
            "IBMGoldPartner-Data&AI\n",
            "1Feb2024-Present\n",
            "JobProfile\n",
            "1.BuildingnumerousPilotsandproofofconceptapplicationsforenterpriseclientstoshowcasehow\n",
            "generativeAIcansimplifytheirtasks.\n",
            "2.ExtendingtheProofofconceptstoproductionreadyapplicationsoncetheclientsarehappywiththe\n",
            "solutions.\n",
            "3.Training,buildingandmanagingateamof5AIspecialistswhoarecurrentlyservicingforclient\n",
            "requirementsrelatedtoGenerativeAI.\n",
            "AIConsultant\n",
            "IndividualPractice\n",
            "1Jan2023-1Feb2024\n",
            "JobProfile\n",
            "1.Buildingconcepts,solutionsforcompaniestoshowcasetheimpactofGENAIandintegratethe\n",
            "solutionsintheircurrentapplications.\n",
            "2.Builtcloseto50Applicationsasproofofconceptsandapproachesclients.Deployed6Production\n",
            "readyapplicationsforclientsasaconsultant.\n",
            "SkillsinAI:\n",
            "● MicrosoftCertifiedAIAzureEngineerAssociate(AI-102)\n",
            "● IBMCertifiedWatsonxAIExpert\n",
            "● CertifiedGoogleCloudPractitioner:DiamondLeague\n",
            "● BestSellingAuthor-Amazonfortheyear2020/21\n",
            "● Built50+GenerativeAIApplications,Pilots&POCs.\n",
            "● CreatedCustomtunedLLMs,LocalLLMsandSLMs.EducationDetails\n",
            "BachelorsinElectronicMedia(Bsc)\n",
            "2009-2012\n",
            "MadrasUniversity\n",
            "FirstClass.\n",
            "AllUniversityRankNo9.\n",
            "MastersinBusinessAdministration(MBA)\n",
            "2012-2014\n",
            "SymbiosisInternationalUniversity\n",
            "FirstClass\n",
            "BestOutgoingStudent-MediaProductionModule\n",
            "DoctorateinBusinessAdministration(DBA)\n",
            "2019-2022\n",
            "SPJainSchoolofGlobalManagement\n",
            "FirstClass\n",
            "ThesisinAdoptionofOTTStreamingServicesinAsiaPacificRegion\n",
            "ResearchPaperPublicationinAcademyofMarketingStudiesJournal(ABDC-BListedJournal)\n",
            "4ConferencePresentationProceedingsPublishedinScopusIndexedPublications.\n",
            "AICertificationsforPractice\n",
            "CertifiedbyMicrosoftCertifiedbyIBM\n",
            "CertificationsbyGoogle-\n",
            "https://www.cloudskillsboost.google/public_profiles/c19b2857-2004-47bf-9401-b18dae5b30ef\n"
          ]
        }
      ],
      "source": [
        "def extract_text_with_pdfplumber(pdf_path):\n",
        "    text = \"\"\n",
        "    with pdfplumber.open(pdf_path) as pdf:\n",
        "        for page in pdf.pages:\n",
        "            text += page.extract_text()\n",
        "    return text\n",
        "\n",
        "# Example usage\n",
        "pdf_path = \"/content/Profile.pdf\"  # Replace with the path to your PDF file\n",
        "extracted_text = extract_text_with_pdfplumber(pdf_path)\n",
        "print(extracted_text)\n"
      ]
    },
    {
      "cell_type": "code",
      "execution_count": null,
      "metadata": {
        "colab": {
          "base_uri": "https://localhost:8080/"
        },
        "id": "YfSO-B5tqt6C",
        "outputId": "b7ae9d3a-c1e9-47a4-97c2-757424195c90"
      },
      "outputs": [
        {
          "name": "stdout",
          "output_type": "stream",
          "text": [
            "Summary:\n",
            "As a recruiter, I've reviewed the profile of Dr. Arvin Subramanian, and here's a summary of his impressive background:\n",
            "\n",
            "**Summary:**\n",
            "Dr. Arvin Subramanian is a highly experienced AI professional with a strong educational background, holding a Doctorate degree in Technology Adoption (OTT Technology). He has a proven track record in AI, with expertise in building numerous pilots, proof of concept applications, and production-ready solutions for enterprise clients. He has worked with top-tier companies like Alpharithm Technologies, an IBM Gold Partner, and has a strong skill set in AI, including certifications from Microsoft, IBM, and Google.\n",
            "\n",
            "**Key Highlights:**\n",
            "\n",
            "* 2+ years of experience in AI, with a focus on Generative AI\n",
            "* Proven ability to build and deploy AI solutions for clients\n",
            "* Strong leadership skills, having managed a team of 5 AI specialists\n",
            "* Certified in AI by Microsoft, IBM, and Google\n",
            "* Published research papers in Scopus indexed publications and presented at conferences\n",
            "* Best-selling author on Amazon for 2020/21\n",
            "* Built 50+ Generative AI applications, pilots, and POCs\n",
            "\n",
            "**Job Fit:**\n",
            "Dr. Arvin Subramanian would be an excellent fit for senior AI roles, such as AI Solution Architect, AI Consultant, or AI Team Lead. His expertise in Generative AI, leadership skills, and certifications make him a strong candidate for companies looking to leverage AI solutions.\n",
            "\n",
            "**Next Steps:**\n",
            "I would recommend scheduling an interview with Dr. Arvin Subramanian to discuss his experience, skills, and fit for our organization's AI needs.\n"
          ]
        }
      ],
      "source": [
        "def summarize_text(text):\n",
        "    response = llm.complete(f\"Summarize the text in the perspetive of a recruiter: {text}\")\n",
        "    return response\n",
        "\n",
        "# Example usage\n",
        "summary = summarize_text(extracted_text)\n",
        "print(\"Summary:\")\n",
        "print(summary)\n"
      ]
    },
    {
      "cell_type": "code",
      "execution_count": null,
      "metadata": {
        "colab": {
          "base_uri": "https://localhost:8080/"
        },
        "id": "knenLbWNvFkV",
        "outputId": "eeca6fcc-98b2-43cf-f2ba-76d934233195"
      },
      "outputs": [
        {
          "name": "stdout",
          "output_type": "stream",
          "text": [
            "Question: What is Arvin qualification?\n",
            "Answer: According to the text, Arvin's qualifications are:\n",
            "\n",
            "* Doctorate Degree in Technology Adoption (OTT Technology) from SPJain School of Global Management (2019-2022)\n",
            "* Master's in Business Administration (MBA) from Symbiosis International University (2012-2014)\n",
            "* Bachelor's in Electronic Media (Bsc) from Madras University (2009-2012)\n",
            "\n",
            "He also has various certifications in AI, including:\n",
            "\n",
            "* Microsoft Certified AI Azure Engineer Associate (AI-102)\n",
            "* IBM Certified Watson AI Expert\n",
            "* Certified Google Cloud Practitioner: Diamond League\n",
            "* Other AI certifications and skills mentioned in the text.\n"
          ]
        }
      ],
      "source": [
        "def ask_question(text, question):\n",
        "    response = llm.complete(f\"Based on the following text: {text}, answer the question: {question}\")\n",
        "    return response\n",
        "\n",
        "# Example usage\n",
        "question = \"What is Arvin qualification?\"\n",
        "answer = ask_question(extracted_text, question)\n",
        "print(f\"Question: {question}\")\n",
        "print(f\"Answer: {answer}\")\n"
      ]
    },
    {
      "cell_type": "code",
      "execution_count": null,
      "metadata": {
        "id": "XvaBdUe8JYUI"
      },
      "outputs": [],
      "source": []
    }
  ],
  "metadata": {
    "colab": {
      "provenance": []
    },
    "kernelspec": {
      "display_name": "Python 3",
      "name": "python3"
    },
    "language_info": {
      "name": "python"
    }
  },
  "nbformat": 4,
  "nbformat_minor": 0
}
