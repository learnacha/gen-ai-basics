{
  "nbformat": 4,
  "nbformat_minor": 0,
  "metadata": {
    "colab": {
      "provenance": []
    },
    "kernelspec": {
      "name": "python3",
      "display_name": "Python 3"
    },
    "language_info": {
      "name": "python"
    }
  },
  "cells": [
    {
      "cell_type": "markdown",
      "source": [
        "Create the below 4 files in github"
      ],
      "metadata": {
        "id": "jKE_jYYyqr61"
      }
    },
    {
      "cell_type": "markdown",
      "source": [
        "Filename. - **main.py**"
      ],
      "metadata": {
        "id": "V3gTNzhdNOgr"
      }
    },
    {
      "cell_type": "code",
      "source": [
        "import streamlit as st\n",
        "from groq import Groq\n",
        "from dotenv import load_dotenv\n",
        "import os\n",
        "\n",
        "# Load environment variables from the .env file\n",
        "load_dotenv()\n",
        "\n",
        "# Fetch the GROQ_API_KEY from the environment variables\n",
        "GROQ_API_KEY = os.getenv('GROQ_API_KEY')\n",
        "\n",
        "# Initialize the Groq client\n",
        "client = Groq(api_key=GROQ_API_KEY)\n",
        "MODEL = 'llama3-70b-8192'\n",
        "\n",
        "def get_groq_response(question):\n",
        "    messages = [\n",
        "        {\n",
        "            \"role\": \"system\",\n",
        "            \"content\": \"You are a chat bot designed only to answer questions about cricketer Sachin Tendulkar. You do not know anything else. If someone asks questions on topics apart from Sachin Tendulkar, just say you don't know.\"\n",
        "        },\n",
        "        {\n",
        "            \"role\": \"user\",\n",
        "            \"content\": question,\n",
        "        }\n",
        "    ]\n",
        "\n",
        "    response = client.chat.completions.create(\n",
        "        model=MODEL,\n",
        "        messages=messages,\n",
        "        max_tokens=4096\n",
        "    )\n",
        "\n",
        "    return response.choices[0].message.content\n",
        "\n",
        "# Streamlit app title\n",
        "st.title(\"Sachin Tendulkar Chatbot\")\n",
        "\n",
        "# Display an image placeholder\n",
        "st.image(\"sachin.jpg\", width=700, caption=\"Sachin Tendulkar\")\n",
        "\n",
        "# Adjust CSS for padding and text wrapping\n",
        "st.markdown(\"\"\"\n",
        "<style>\n",
        ".block-container {\n",
        "    padding-top: 3rem;  /* Adjust this value as needed */\n",
        "    padding-bottom: 1rem; /* Ensure bottom content is visible */\n",
        "    padding-left: 1rem;\n",
        "    padding-right: 1rem;\n",
        "}\n",
        ".css-1r6slb0 {\n",
        "    white-space: normal !important;\n",
        "}\n",
        ".sidebar-text {\n",
        "    white-space: normal !important;\n",
        "    word-wrap: break-word;\n",
        "}\n",
        "</style>\n",
        "\"\"\", unsafe_allow_html=True)\n",
        "\n",
        "# Input box for user query\n",
        "query = st.text_input(\"Enter your query about Sachin Tendulkar:\")\n",
        "\n",
        "# Button to get response\n",
        "if st.button(\"Search\"):\n",
        "    if query:\n",
        "        # Get the response from the Groq model\n",
        "        response = get_groq_response(query)\n",
        "        # Display the response\n",
        "        st.write(\"Response:\", response)\n",
        "    else:\n",
        "        st.write(\"Please enter a query.\")\n",
        "\n",
        "# Additional Streamlit widgets for beautification\n",
        "st.sidebar.header(\"About This App\")\n",
        "st.sidebar.markdown('<div class=\"sidebar-text\">This app allows you to ask questions about the legendary cricketer Sachin Tendulkar. Feel free to explore and learn more about his career and achievements!</div>', unsafe_allow_html=True)\n",
        "\n",
        "# Add a footer\n",
        "st.markdown(\"---\")\n",
        "st.markdown(\"Made with ❤️ using Streamlit\")\n"
      ],
      "metadata": {
        "id": "525uLJLJKSBI"
      },
      "execution_count": null,
      "outputs": []
    },
    {
      "cell_type": "markdown",
      "source": [
        "Filename - **requirements.txt**"
      ],
      "metadata": {
        "id": "THNCdvCZNiEX"
      }
    },
    {
      "cell_type": "code",
      "source": [
        "streamlit==1.27.2  # currently pinned to this version\n",
        "groq\n",
        "python-dotenv\n"
      ],
      "metadata": {
        "id": "c66vrcPlOD0X"
      },
      "execution_count": null,
      "outputs": []
    },
    {
      "cell_type": "markdown",
      "source": [
        "File name - **.env**"
      ],
      "metadata": {
        "id": "5Feu0gUFqkK5"
      }
    },
    {
      "cell_type": "code",
      "source": [
        "GROQ_API_KEY= \"add-your-groq-api-key\""
      ],
      "metadata": {
        "id": "3zRYH2obqxBZ"
      },
      "execution_count": null,
      "outputs": []
    },
    {
      "cell_type": "markdown",
      "source": [
        "4. Upload the Sachin.jpg in the github by clicking upload button. the image is there in the same folder as colab notebook"
      ],
      "metadata": {
        "id": "Z1keYIqzq2pQ"
      }
    },
    {
      "cell_type": "markdown",
      "source": [
        "**Code to run the application**"
      ],
      "metadata": {
        "id": "TjJBIa-lZE2_"
      }
    },
    {
      "cell_type": "code",
      "source": [
        "pip install -r requirements.txt\n"
      ],
      "metadata": {
        "id": "GQkeEWCpZJKW"
      },
      "execution_count": null,
      "outputs": []
    },
    {
      "cell_type": "code",
      "source": [
        "streamlit run main.py"
      ],
      "metadata": {
        "id": "lXl22H68qfm3"
      },
      "execution_count": null,
      "outputs": []
    },
    {
      "cell_type": "markdown",
      "source": [
        "1. Open the repository in codespaces\n",
        "2. wait for the python 3.10 to load\n",
        "3. open terminal (antenna symbol in the below)\n",
        "4. type the command. - \"pip install -r requirements.txt\" and run\n",
        "5. type the command - \"python -m streamlit run main.py\""
      ],
      "metadata": {
        "id": "KWjIFbZ1rDmb"
      }
    },
    {
      "cell_type": "markdown",
      "source": [
        "1. Open share.streamlit.io website\n",
        "2. Log in with github\n",
        "3. and connect your github\n",
        "4. create an app\n",
        "5. place the link of the github repository\n",
        "6. give main.py as file name\n",
        "7. create app\n",
        "8. in sometime app will be created.\n",
        "9. share the link with others."
      ],
      "metadata": {
        "id": "ymbiLq58rJla"
      }
    },
    {
      "cell_type": "markdown",
      "source": [
        "After depoloying in streamlit,\n",
        "1. go to github\n",
        "2. open repository\n",
        "3. delete the .env file\n",
        "4. and click on reboot app on streamlit\n",
        "5. the application will not open\n",
        "6. then click on setting , copy the api key (.env file) and place it in secrets section\n",
        "7. now the application will work"
      ],
      "metadata": {
        "id": "T_U8KsXwqZAb"
      }
    },
    {
      "cell_type": "code",
      "source": [],
      "metadata": {
        "id": "J42OSLh0qcyT"
      },
      "execution_count": null,
      "outputs": []
    }
  ]
}