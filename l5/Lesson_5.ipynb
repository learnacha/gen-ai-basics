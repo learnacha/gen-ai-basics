{
  "cells": [
    {
      "cell_type": "code",
      "execution_count": null,
      "metadata": {
        "colab": {
          "base_uri": "https://localhost:8080/"
        },
        "id": "6ry2Lga8nPqU",
        "outputId": "c8295620-89bc-4f4e-b3de-8cd3a062645f"
      },
      "outputs": [],
      "source": [
        "!pip install llama-index-llms-groq\n",
        "!pip install llama-index\n",
        "!pip install pdfplumber\n",
        "!pip install scikit-learn"
      ]
    },
    {
      "cell_type": "code",
      "execution_count": 2,
      "metadata": {
        "id": "mpYu_AJ1nii1"
      },
      "outputs": [],
      "source": [
        "from llama_index.llms.groq import Groq\n",
        "import pdfplumber\n",
        "from sklearn.metrics import precision_score, recall_score, f1_score, confusion_matrix\n",
        "import numpy as np\n"
      ]
    },
    {
      "cell_type": "code",
      "execution_count": 3,
      "metadata": {
        "id": "yhdSBDWknmlH"
      },
      "outputs": [],
      "source": [
        "# Create an API key at the Groq console (https://console.groq.com/keys)\n",
        "# Then set it to the environment variable GROQ_API_KEY or pass it directly\n",
        "\n",
        "api_key = \"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\"  # Replace with your actual API key\n",
        "llm = Groq(model=\"llama3-70b-8192\", api_key=api_key)\n"
      ]
    },
    {
      "cell_type": "code",
      "execution_count": 4,
      "metadata": {
        "colab": {
          "base_uri": "https://localhost:8080/"
        },
        "id": "UNvBnppqpcE8",
        "outputId": "b4b99222-e400-4f60-a6b3-30a9978c4cb9"
      },
      "outputs": [
        {
          "name": "stdout",
          "output_type": "stream",
          "text": [
            "Agenda\n",
            "Global IndiaAI Summit 2024 3-4 July 2024, New Delhi\n",
            "Day 1 - Wednesday, July 3\n",
            "Start Session Description\n",
            "10:00 - 11:00\n",
            "Opening Ceremony (Auditorium 1)\n",
            "11:00 – 13:30\n",
            "GPAI Session (@ Summit Room) : Executive Council Meeting\n",
            "(By Invitation only)\n",
            "11:30 - 13:00 Side Event 1 (@ The session is about learning and sharing knowledge on Large\n",
            "Auditorium 1): Language Models (LLMs) and Large Multimodal Models (LMMs),\n",
            "with the aim to understand the unique linguistic and cultural\n",
            "IndiaAI: Large diversity inherent to India, examining how LLMs can effectively\n",
            "Language Model address challenges associated with multilingualism. Furthermore,\n",
            "the session will cover the ethical considerations and biases linked\n",
            "to these models, promoting a discussion on responsible AI\n",
            "practices, including fairness, inclusiveness, misinformation\n",
            "mitigation, and intellectual property rights within diverse cultural\n",
            "contexts. Lastly, the session will focus on the collaborative\n",
            "opportunities among indigenous communities, academia,\n",
            "industry, and startups in the creation of indigenous foundational\n",
            "models.\n",
            "Side Event 2 (@ Room The goal of this Convening is to gather insights and feedback on\n",
            "No. X): the use of AI in healthcare to better understand the unique\n",
            "challenges faced by global south countries in integrating AI\n",
            "GPAI Convening on solutions. The insights gained will help GPAI refine its focus and\n",
            "Global Health and AI explore new directions for future endeavours, ensuring that these\n",
            "issues are addressed from all relevant contexts and perspectives.\n",
            "This convening will feature experts from various sectors, including\n",
            "government, international organisations, academia, industry, civil\n",
            "society, and other key stakeholders.\n",
            "Lunch: 13:30 - 14:30\n",
            "14:30 –16:30\n",
            "GPAI Session (@ Summit Room) : Ministerial Council Meeting\n",
            "(By Invitation only)\n",
            "14.30 -16:00 Side Event 3 (@ The case study presentations and panel discussion will bring\n",
            "Auditorium 1): together technical experts to share their experiences of creating\n",
            "real-world solutions, identify gaps in the development and\n",
            "IndiaAI: Real World AI deployment of AI solutions, and discover the next steps in the AI\n",
            "Solutions adoption journey. The learnings of implementing various AI use\n",
            "cases identified through this session would be the first step in\n",
            "creating a world-class ecosystem that advances the boundaries\n",
            "of AI knowledge and innovation through collaboration with\n",
            "industry, national and international academia, start-ups, and\n",
            "other stakeholders.Side Event 4 (@ Room The proposed panel discussion will focus on key issues related\n",
            "No. X): to the readiness of infrastructure in India, focusing on strategies\n",
            "for developing scalable and future-ready AI compute\n",
            "IndiaAI: India’s infrastructure. It will emphasise the critical role of a skilled\n",
            "Infrastructure workforce, from chip designers to orchestration engineers, in\n",
            "Readiness for AI establishing robust AI infrastructure. Additionally, the panel will\n",
            "explore strategies to make advanced AI compute services\n",
            "affordable for startups and AI researchers nationwide, ensuring\n",
            "accessibility and fostering innovation.\n",
            "17:00 – 18:30 Side Event 5 (@ This session explores India's commitment to leveraging AI for\n",
            "Auditorium 1): societal good, emphasising the country's strategic approach\n",
            "rooted in openness, safety, trust, and accountability.\n",
            "IndiaAI: Ensuring Discussions will focus on India's efforts to establish ethical\n",
            "Safety, Trust, and guidelines, enhance international cooperation, and prioritise\n",
            "Governance in the AI safe and trusted AI development, showcasing its dedication to\n",
            "Age creating a secure and trustworthy digital environment.\n",
            "Side Event 6 (@ Room The CAIGP Convening aims to bring together GPAI members,\n",
            "No. X): AI experts and industry representatives to identify mechanisms\n",
            "to overcome the global AI divide. This session shall be a\n",
            "Collaborative AI on development on previously identified goals of CAIGP, with focus\n",
            "Global Partnership on developing the role of GPAI in aligning global deliberations\n",
            "(CAIGP) on democratising AI resources and leading the implementation\n",
            "thereof. It shall particularly focus on identifying institutional\n",
            "mechanisms to enable the democratisation of AI resources and\n",
            "its benefits through GPAI. Additionally, focus shall also be laid\n",
            "on identifying roles and responsibilities of various stakeholders\n",
            "and ecosystem partners in furthering the thematic objectives of\n",
            "CAIGP.Agenda\n",
            "Global IndiaAI Summit 2024 3-4 July 2024, New Delhi\n",
            "Day 2 - Thursday, July 4\n",
            "Start Session Description\n",
            "10:00 - 11:30 Side Event 7 (@ The session will focus on the current industry demand, challenges,\n",
            "Room No. Y): and growth in AI skills, highlighting significant opportunities for job\n",
            "seekers. The panel would discuss the importance of AI skilling in\n",
            "IndiaAI: today's rapidly evolving technological landscape, emphasizing its\n",
            "Empowering Talent impact on employability, earning potential, and career growth. The\n",
            "through AI session will offer guidance to students, researchers, and\n",
            "Education & Skilling professionals on skilling and upskilling opportunities in essential AI\n",
            "technologies and skills, while also showcasing success stories and\n",
            "diverse career paths in AI.\n",
            "Side Event 8 (@ This side session aims to bring together the Global South to\n",
            "Room No. X): deliberate on the specific challenges and priorities of the Global\n",
            "South for harnessing the potential of AI. The design, development,\n",
            "AI for Global Good: and deployment of artificial intelligence (AI), as well as its associated\n",
            "Empowering the challenges, have been extensively deliberated by the Global North,\n",
            "Global South largely in the context of their local economies. This has led to AI\n",
            "technology and governance methods being passed down from the\n",
            "(By Invitation only) Global North to the Global South, without adequate\n",
            "contextualisation. The round table session will also explore\n",
            "mechanisms for empowering the voices of the Global South,\n",
            "including the possibility of creating a new multilateral organisation to\n",
            "help Global South countries gain a voice and bring to the forefront\n",
            "their collective challenges and priorities in the AI development space.\n",
            "12:00 - 13:30 Side Event 9 (@ This side session aims to forge a path towards a self-sufficient India,\n",
            "Room No. Y): where the startup ecosystem not only thrives on its own merits but\n",
            "also contributes significantly to the global market. It seeks to\n",
            "IndiaAI: From Seed acknowledge the strides made through existing initiatives and\n",
            "to Scale- assess the current landscape. The session will explore strategies to\n",
            "Empowering India’s further bolster this growth, ensuring India's AI startups are well-\n",
            "Startup Ecosystem equipped to innovate and expand, reinforcing India's position as a\n",
            "leader in the global AI industry.\n",
            "GPAI Session (@ Room No. X) : Innovation Workshop Followup\n",
            "Lunch: 13:30 - 14:30\n",
            "14:30 –16:00 Side Event 10 (@ The session aims to explore strategies for developing resilient and\n",
            "Room No. X): scalable data infrastructure to support the growth of the AI\n",
            "ecosystem, with focus on the importance of robust data\n",
            "IndiaAI: Data governance frameworks that ensure data privacy, security, and\n",
            "Ecosystem ethical use. Additionally, the panel will examine the potential for\n",
            "data sharing frameworks and platforms that enable seamless data\n",
            "exchange while maintaining sovereignty and trust. Lastly, the panel\n",
            "will discuss mitigating data bias to ensure ethical and unbiased AI\n",
            "systems by emphasising data quality, representativeness, and\n",
            "fairness.\n",
            "Side Event 11 (@ This session will explore how India is preparing to become \"AI-\n",
            "Room No. Y): ready,\" focusing on the transformative potential of Artificial\n",
            "Intelligence (AI) in public services. To realise this potential, it is\n",
            "crucial to understand the foundational requirements for integratingAI Competency AI seamlessly, including digital expertise among government\n",
            "Framework for officials. The session will reference the UNESCO Report on AI\n",
            "Public Sector competencies for civil servants and examine the Capacity Building\n",
            "Commission's (CBC) framework to develop an AI upskilling\n",
            "roadmap for the Indian public sector. Expert feedback and\n",
            "collaborative discussions will aim to identify specific AI\n",
            "competencies required by public officials and provide actionable\n",
            "guidelines for future training and capacity-building programs.\n",
            "16:30 -18:00 Side Event 12 (@ Building upon the success of the GPAI virtual convening, the\n",
            "Room No. Y): Global India AI summit will include a dedicated session to further\n",
            "critical discourse on the sub-domains of Crop Advisory, Market\n",
            "Sustainable Access and Financial Services for Farmers and Climate Resilient\n",
            "Agriculture Agriculture. This upcoming session aims to showcase case study\n",
            "presentation that will be followed by a panel discussion to explore\n",
            "synergies, and cross sectoral opportunities in implementing AI to\n",
            "enhance yields and inform smallholder farmer efforts for\n",
            "agricultural output\n",
            "18:00: High Tea\n"
          ]
        }
      ],
      "source": [
        "def extract_text_with_pdfplumber(pdf_path):\n",
        "    text = \"\"\n",
        "    with pdfplumber.open(pdf_path) as pdf:\n",
        "        for page in pdf.pages:\n",
        "            text += page.extract_text()\n",
        "    return text\n",
        "\n",
        "# Example usage\n",
        "pdf_path = \"/content/agenda.pdf\"  # Replace with the path to your PDF file\n",
        "extracted_text = extract_text_with_pdfplumber(pdf_path)\n",
        "print(extracted_text)\n"
      ]
    },
    {
      "cell_type": "code",
      "execution_count": 5,
      "metadata": {
        "id": "C1q3uGdNXj-U"
      },
      "outputs": [],
      "source": [
        "# Define a list of questions and their expected answers (true labels)\n",
        "questions_and_answers = [\n",
        "    (\"What is the name of the summit?\", \"Global IndiaAI Summit 2024\"),\n",
        "    (\"When and where is the Global IndiaAI Summit 2024 taking place?\", \"3-4 July 2024, New Delhi\"),\n",
        "    (\"What is the time and venue for the opening ceremony on Day 1?\", \"10:00 - 11:00 at Auditorium 1\"),\n",
        "    (\"What is the GPAI Session about at 11:00 on Day 1?\", \"Executive Council Meeting (By Invitation only)\"),\n",
        "]"
      ]
    },
    {
      "cell_type": "code",
      "execution_count": null,
      "metadata": {
        "colab": {
          "base_uri": "https://localhost:8080/"
        },
        "id": "hVj8FJLPaW_X",
        "outputId": "22c868dd-9605-4ec3-a325-aa146f930813"
      },
      "outputs": [],
      "source": [
        "!pip install rouge-score"
      ]
    },
    {
      "cell_type": "code",
      "execution_count": 7,
      "metadata": {
        "id": "-PSBJDYKb6r4"
      },
      "outputs": [],
      "source": [
        "from rouge_score import rouge_scorer"
      ]
    },
    {
      "cell_type": "code",
      "execution_count": 16,
      "metadata": {
        "colab": {
          "base_uri": "https://localhost:8080/"
        },
        "id": "4Toxe-gIqwYf",
        "outputId": "dc1759c2-e733-4776-c247-8c6054b773c4"
      },
      "outputs": [
        {
          "name": "stdout",
          "output_type": "stream",
          "text": [
            "True Labels:\n",
            "['Global IndiaAI Summit 2024', '3-4 July 2024, New Delhi', '10:00 - 11:00 at Auditorium 1', 'Executive Council Meeting (By Invitation only)']\n",
            "Predicted Labels:\n",
            "['Global IndiaAI', 'Here are two-word answers based on the agenda:\\n\\n* New Delhi\\n* July 2024', 'Here are the two-word answers:\\n\\n10:00 Auditorium', 'Executive Council']\n"
          ]
        }
      ],
      "source": [
        "# Function to ask questions and get predictions from the model\n",
        "def ask_questions(text, questions_and_answers):\n",
        "    true_labels = []\n",
        "    predicted_labels = []\n",
        "\n",
        "    for question, true_answer in questions_and_answers:\n",
        "        true_labels.append(true_answer)\n",
        "        response = llm.complete(f\" Give  answers based on {text}, for the question: {question}\")\n",
        "        predicted_labels.append(response.text.strip())  # Accessing the text attribute directly\n",
        "\n",
        "    return true_labels, predicted_labels\n",
        "\n",
        "# Example usage\n",
        "true_labels, predicted_labels = ask_questions(extracted_text, questions_and_answers)\n",
        "print(\"True Labels:\")\n",
        "print(true_labels)\n",
        "print(\"Predicted Labels:\")\n",
        "print(predicted_labels)\n"
      ]
    },
    {
      "cell_type": "code",
      "execution_count": 17,
      "metadata": {
        "colab": {
          "base_uri": "https://localhost:8080/"
        },
        "id": "lo4aLtl0crj3",
        "outputId": "7876a8d3-d9fb-4f35-cc4d-41bd855e4647"
      },
      "outputs": [
        {
          "name": "stdout",
          "output_type": "stream",
          "text": [
            "Precision: 1.0\n",
            "Recall: 1.0\n",
            "F1 Score: 1.0\n"
          ]
        }
      ],
      "source": [
        "# Function to evaluate model using token-level comparisons\n",
        "def evaluate_model(true_labels, predicted_labels):\n",
        "    correct_count = 0\n",
        "    total_count = len(true_labels)\n",
        "\n",
        "    for true_label, predicted_label in zip(true_labels, predicted_labels):\n",
        "        # Tokenize and convert to sets\n",
        "        true_tokens = set(true_label.lower().split())\n",
        "        predicted_tokens = set(predicted_label.lower().split())\n",
        "\n",
        "        # Calculate intersection\n",
        "        intersection = true_tokens.intersection(predicted_tokens)\n",
        "\n",
        "        # If there is any intersection, count it as correct (lenient matching)\n",
        "        if intersection:\n",
        "            correct_count += 1\n",
        "\n",
        "    precision = correct_count / total_count\n",
        "    recall = correct_count / total_count\n",
        "    f1 = 2 * (precision * recall) / (precision + recall) if (precision + recall) > 0 else 0\n",
        "\n",
        "    return precision, recall, f1\n",
        "\n",
        "precision, recall, f1 = evaluate_model(true_labels, predicted_labels)\n",
        "print(f\"Precision: {precision}\")\n",
        "print(f\"Recall: {recall}\")\n",
        "print(f\"F1 Score: {f1}\")\n"
      ]
    },
    {
      "cell_type": "code",
      "execution_count": 18,
      "metadata": {
        "colab": {
          "base_uri": "https://localhost:8080/"
        },
        "id": "Qrj_rYzTq89h",
        "outputId": "e75bce76-17f3-494c-df87-946c3396caed"
      },
      "outputs": [
        {
          "name": "stdout",
          "output_type": "stream",
          "text": [
            "Comparison of True and Predicted Answers:\n",
            "Question 1:\n",
            "True Answer: Global IndiaAI Summit 2024\n",
            "Predicted Answer: Global IndiaAI\n",
            "--> Score impacted: Check precision and recall for this question.\n",
            "\n",
            "Question 2:\n",
            "True Answer: 3-4 July 2024, New Delhi\n",
            "Predicted Answer: Here are two-word answers based on the agenda:\n",
            "\n",
            "* New Delhi\n",
            "* July 2024\n",
            "--> Score impacted: Check precision and recall for this question.\n",
            "\n",
            "Question 3:\n",
            "True Answer: 10:00 - 11:00 at Auditorium 1\n",
            "Predicted Answer: Here are the two-word answers:\n",
            "\n",
            "10:00 Auditorium\n",
            "--> Score impacted: Check precision and recall for this question.\n",
            "\n",
            "Question 4:\n",
            "True Answer: Executive Council Meeting (By Invitation only)\n",
            "Predicted Answer: Executive Council\n",
            "--> Score impacted: Check precision and recall for this question.\n",
            "\n"
          ]
        }
      ],
      "source": [
        "# Print each question, true answer, and predicted answer\n",
        "print(\"Comparison of True and Predicted Answers:\")\n",
        "for i, (true_label, predicted_label) in enumerate(zip(true_labels, predicted_labels)):\n",
        "    print(f\"Question {i + 1}:\")\n",
        "    print(f\"True Answer: {true_label}\")\n",
        "    print(f\"Predicted Answer: {predicted_label}\")\n",
        "    if true_label != predicted_label:\n",
        "        print(\"--> Score impacted: Check precision and recall for this question.\")\n",
        "    print()\n"
      ]
    },
    {
      "cell_type": "code",
      "execution_count": 19,
      "metadata": {
        "colab": {
          "base_uri": "https://localhost:8080/"
        },
        "id": "3n2pjsg2sPcE",
        "outputId": "f6200639-090a-4ee6-f8d5-2ec346df3daf"
      },
      "outputs": [
        {
          "name": "stdout",
          "output_type": "stream",
          "text": [
            "Comparison of True and Predicted Answers with Scores:\n",
            "Question 1:\n",
            "True Answer: Global IndiaAI Summit 2024\n",
            "Predicted Answer: Global IndiaAI\n",
            "Precision: 1.00\n",
            "Recall: 0.50\n",
            "F1 Score: 0.67\n",
            "\n",
            "Question 2:\n",
            "True Answer: 3-4 July 2024, New Delhi\n",
            "Predicted Answer: Here are two-word answers based on the agenda:\n",
            "\n",
            "* New Delhi\n",
            "* July 2024\n",
            "Precision: 0.23\n",
            "Recall: 0.60\n",
            "F1 Score: 0.33\n",
            "\n",
            "Question 3:\n",
            "True Answer: 10:00 - 11:00 at Auditorium 1\n",
            "Predicted Answer: Here are the two-word answers:\n",
            "\n",
            "10:00 Auditorium\n",
            "Precision: 0.29\n",
            "Recall: 0.33\n",
            "F1 Score: 0.31\n",
            "\n",
            "Question 4:\n",
            "True Answer: Executive Council Meeting (By Invitation only)\n",
            "Predicted Answer: Executive Council\n",
            "Precision: 1.00\n",
            "Recall: 0.33\n",
            "F1 Score: 0.50\n",
            "\n",
            "Average Precision: 0.63\n",
            "Average Recall: 0.44\n",
            "Average F1 Score: 0.45\n"
          ]
        }
      ],
      "source": [
        "# Function to calculate precision, recall, and F1 score for each answer\n",
        "def calculate_scores(true_label, predicted_label):\n",
        "    true_tokens = set(true_label.lower().split())\n",
        "    predicted_tokens = set(predicted_label.lower().split())\n",
        "\n",
        "    intersection = true_tokens.intersection(predicted_tokens)\n",
        "    precision = len(intersection) / len(predicted_tokens) if predicted_tokens else 0\n",
        "    recall = len(intersection) / len(true_tokens) if true_tokens else 0\n",
        "    f1 = 2 * (precision * recall) / (precision + recall) if (precision + recall) > 0 else 0\n",
        "\n",
        "    return precision, recall, f1\n",
        "\n",
        "# Function to evaluate model using token-level comparisons and print details\n",
        "def evaluate_and_print(true_labels, predicted_labels):\n",
        "    total_precision, total_recall, total_f1 = 0, 0, 0\n",
        "    total_count = len(true_labels)\n",
        "\n",
        "    print(\"Comparison of True and Predicted Answers with Scores:\")\n",
        "    for i, (true_label, predicted_label) in enumerate(zip(true_labels, predicted_labels)):\n",
        "        precision, recall, f1 = calculate_scores(true_label, predicted_label)\n",
        "        total_precision += precision\n",
        "        total_recall += recall\n",
        "        total_f1 += f1\n",
        "\n",
        "        print(f\"Question {i + 1}:\")\n",
        "        print(f\"True Answer: {true_label}\")\n",
        "        print(f\"Predicted Answer: {predicted_label}\")\n",
        "        print(f\"Precision: {precision:.2f}\")\n",
        "        print(f\"Recall: {recall:.2f}\")\n",
        "        print(f\"F1 Score: {f1:.2f}\")\n",
        "        print()\n",
        "\n",
        "    avg_precision = total_precision / total_count\n",
        "    avg_recall = total_recall / total_count\n",
        "    avg_f1 = total_f1 / total_count\n",
        "\n",
        "    print(f\"Average Precision: {avg_precision:.2f}\")\n",
        "    print(f\"Average Recall: {avg_recall:.2f}\")\n",
        "    print(f\"Average F1 Score: {avg_f1:.2f}\")\n",
        "\n",
        "# Example usage\n",
        "evaluate_and_print(true_labels, predicted_labels)\n"
      ]
    },
    {
      "cell_type": "code",
      "execution_count": 14,
      "metadata": {
        "colab": {
          "base_uri": "https://localhost:8080/"
        },
        "id": "t6NhXBHgq-tB",
        "outputId": "d4c2442a-d06a-4659-fdda-c5d411bd93d2"
      },
      "outputs": [
        {
          "name": "stdout",
          "output_type": "stream",
          "text": [
            "ROUGE-1: 0.52\n",
            "ROUGE-2: 0.38\n",
            "ROUGE-L: 0.50\n"
          ]
        }
      ],
      "source": [
        "# Function to calculate ROUGE scores\n",
        "def calculate_rouge(true_label, predicted_label):\n",
        "    scorer = rouge_scorer.RougeScorer(['rouge1', 'rouge2', 'rougeL'], use_stemmer=True)\n",
        "    scores = scorer.score(true_label, predicted_label)\n",
        "    return scores\n",
        "\n",
        "# Function to evaluate model using ROUGE scores\n",
        "def evaluate_with_rouge(true_labels, predicted_labels):\n",
        "    total_rouge1, total_rouge2, total_rougeL = 0, 0, 0\n",
        "    count = len(true_labels)\n",
        "\n",
        "    for true_label, predicted_label in zip(true_labels, predicted_labels):\n",
        "        scores = calculate_rouge(true_label, predicted_label)\n",
        "        total_rouge1 += scores['rouge1'].fmeasure\n",
        "        total_rouge2 += scores['rouge2'].fmeasure\n",
        "        total_rougeL += scores['rougeL'].fmeasure\n",
        "\n",
        "    avg_rouge1 = total_rouge1 / count\n",
        "    avg_rouge2 = total_rouge2 / count\n",
        "    avg_rougeL = total_rougeL / count\n",
        "\n",
        "    return avg_rouge1, avg_rouge2, avg_rougeL\n",
        "\n",
        "# Example usage\n",
        "avg_rouge1, avg_rouge2, avg_rougeL = evaluate_with_rouge(true_labels, predicted_labels)\n",
        "print(f\"ROUGE-1: {avg_rouge1:.2f}\")\n",
        "print(f\"ROUGE-2: {avg_rouge2:.2f}\")\n",
        "print(f\"ROUGE-L: {avg_rougeL:.2f}\")\n"
      ]
    }
  ],
  "metadata": {
    "colab": {
      "provenance": []
    },
    "kernelspec": {
      "display_name": "Python 3",
      "name": "python3"
    },
    "language_info": {
      "name": "python"
    }
  },
  "nbformat": 4,
  "nbformat_minor": 0
}
