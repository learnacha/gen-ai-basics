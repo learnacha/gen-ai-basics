{
  "cells": [
    {
      "cell_type": "code",
      "execution_count": null,
      "metadata": {
        "colab": {
          "base_uri": "https://localhost:8080/"
        },
        "id": "6ry2Lga8nPqU",
        "outputId": "0e5a58c8-45c0-4f99-8bda-42acfa5b44fa"
      },
      "outputs": [],
      "source": [
        "!pip install llama-index-llms-groq\n",
        "!pip install llama-index\n",
        "!pip install pdfplumber\n",
        "!pip install scikit-learn"
      ]
    },
    {
      "cell_type": "code",
      "execution_count": 2,
      "metadata": {
        "id": "mpYu_AJ1nii1"
      },
      "outputs": [],
      "source": [
        "from llama_index.llms.groq import Groq\n",
        "import pdfplumber\n",
        "from sklearn.metrics import precision_score, recall_score, f1_score, confusion_matrix\n",
        "import numpy as np\n"
      ]
    },
    {
      "cell_type": "code",
      "execution_count": 4,
      "metadata": {
        "id": "yhdSBDWknmlH"
      },
      "outputs": [],
      "source": [
        "# Create an API key at the Groq console (https://console.groq.com/keys)\n",
        "# Then set it to the environment variable GROQ_API_KEY or pass it directly\n",
        "\n",
        "api_key = \"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\"  # Replace with your actual API key\n",
        "llm = Groq(model=\"llama3-70b-8192\", api_key=api_key)\n"
      ]
    },
    {
      "cell_type": "code",
      "execution_count": 5,
      "metadata": {
        "colab": {
          "base_uri": "https://localhost:8080/"
        },
        "id": "UNvBnppqpcE8",
        "outputId": "b1a5d573-cb2b-4318-a66d-9c6f744c4a62"
      },
      "outputs": [
        {
          "name": "stdout",
          "output_type": "stream",
          "text": [
            "Agenda\n",
            "Global IndiaAI Summit 2024 3-4 July 2024, New Delhi\n",
            "Day 1 - Wednesday, July 3\n",
            "Start Session Description\n",
            "10:00 - 11:00\n",
            "Opening Ceremony (Auditorium 1)\n",
            "11:00 – 13:30\n",
            "GPAI Session (@ Summit Room) : Executive Council Meeting\n",
            "(By Invitation only)\n",
            "11:30 - 13:00 Side Event 1 (@ The session is about learning and sharing knowledge on Large\n",
            "Auditorium 1): Language Models (LLMs) and Large Multimodal Models (LMMs),\n",
            "with the aim to understand the unique linguistic and cultural\n",
            "IndiaAI: Large diversity inherent to India, examining how LLMs can effectively\n",
            "Language Model address challenges associated with multilingualism. Furthermore,\n",
            "the session will cover the ethical considerations and biases linked\n",
            "to these models, promoting a discussion on responsible AI\n",
            "practices, including fairness, inclusiveness, misinformation\n",
            "mitigation, and intellectual property rights within diverse cultural\n",
            "contexts. Lastly, the session will focus on the collaborative\n",
            "opportunities among indigenous communities, academia,\n",
            "industry, and startups in the creation of indigenous foundational\n",
            "models.\n",
            "Side Event 2 (@ Room The goal of this Convening is to gather insights and feedback on\n",
            "No. X): the use of AI in healthcare to better understand the unique\n",
            "challenges faced by global south countries in integrating AI\n",
            "GPAI Convening on solutions. The insights gained will help GPAI refine its focus and\n",
            "Global Health and AI explore new directions for future endeavours, ensuring that these\n",
            "issues are addressed from all relevant contexts and perspectives.\n",
            "This convening will feature experts from various sectors, including\n",
            "government, international organisations, academia, industry, civil\n",
            "society, and other key stakeholders.\n",
            "Lunch: 13:30 - 14:30\n",
            "14:30 –16:30\n",
            "GPAI Session (@ Summit Room) : Ministerial Council Meeting\n",
            "(By Invitation only)\n",
            "14.30 -16:00 Side Event 3 (@ The case study presentations and panel discussion will bring\n",
            "Auditorium 1): together technical experts to share their experiences of creating\n",
            "real-world solutions, identify gaps in the development and\n",
            "IndiaAI: Real World AI deployment of AI solutions, and discover the next steps in the AI\n",
            "Solutions adoption journey. The learnings of implementing various AI use\n",
            "cases identified through this session would be the first step in\n",
            "creating a world-class ecosystem that advances the boundaries\n",
            "of AI knowledge and innovation through collaboration with\n",
            "industry, national and international academia, start-ups, and\n",
            "other stakeholders.Side Event 4 (@ Room The proposed panel discussion will focus on key issues related\n",
            "No. X): to the readiness of infrastructure in India, focusing on strategies\n",
            "for developing scalable and future-ready AI compute\n",
            "IndiaAI: India’s infrastructure. It will emphasise the critical role of a skilled\n",
            "Infrastructure workforce, from chip designers to orchestration engineers, in\n",
            "Readiness for AI establishing robust AI infrastructure. Additionally, the panel will\n",
            "explore strategies to make advanced AI compute services\n",
            "affordable for startups and AI researchers nationwide, ensuring\n",
            "accessibility and fostering innovation.\n",
            "17:00 – 18:30 Side Event 5 (@ This session explores India's commitment to leveraging AI for\n",
            "Auditorium 1): societal good, emphasising the country's strategic approach\n",
            "rooted in openness, safety, trust, and accountability.\n",
            "IndiaAI: Ensuring Discussions will focus on India's efforts to establish ethical\n",
            "Safety, Trust, and guidelines, enhance international cooperation, and prioritise\n",
            "Governance in the AI safe and trusted AI development, showcasing its dedication to\n",
            "Age creating a secure and trustworthy digital environment.\n",
            "Side Event 6 (@ Room The CAIGP Convening aims to bring together GPAI members,\n",
            "No. X): AI experts and industry representatives to identify mechanisms\n",
            "to overcome the global AI divide. This session shall be a\n",
            "Collaborative AI on development on previously identified goals of CAIGP, with focus\n",
            "Global Partnership on developing the role of GPAI in aligning global deliberations\n",
            "(CAIGP) on democratising AI resources and leading the implementation\n",
            "thereof. It shall particularly focus on identifying institutional\n",
            "mechanisms to enable the democratisation of AI resources and\n",
            "its benefits through GPAI. Additionally, focus shall also be laid\n",
            "on identifying roles and responsibilities of various stakeholders\n",
            "and ecosystem partners in furthering the thematic objectives of\n",
            "CAIGP.Agenda\n",
            "Global IndiaAI Summit 2024 3-4 July 2024, New Delhi\n",
            "Day 2 - Thursday, July 4\n",
            "Start Session Description\n",
            "10:00 - 11:30 Side Event 7 (@ The session will focus on the current industry demand, challenges,\n",
            "Room No. Y): and growth in AI skills, highlighting significant opportunities for job\n",
            "seekers. The panel would discuss the importance of AI skilling in\n",
            "IndiaAI: today's rapidly evolving technological landscape, emphasizing its\n",
            "Empowering Talent impact on employability, earning potential, and career growth. The\n",
            "through AI session will offer guidance to students, researchers, and\n",
            "Education & Skilling professionals on skilling and upskilling opportunities in essential AI\n",
            "technologies and skills, while also showcasing success stories and\n",
            "diverse career paths in AI.\n",
            "Side Event 8 (@ This side session aims to bring together the Global South to\n",
            "Room No. X): deliberate on the specific challenges and priorities of the Global\n",
            "South for harnessing the potential of AI. The design, development,\n",
            "AI for Global Good: and deployment of artificial intelligence (AI), as well as its associated\n",
            "Empowering the challenges, have been extensively deliberated by the Global North,\n",
            "Global South largely in the context of their local economies. This has led to AI\n",
            "technology and governance methods being passed down from the\n",
            "(By Invitation only) Global North to the Global South, without adequate\n",
            "contextualisation. The round table session will also explore\n",
            "mechanisms for empowering the voices of the Global South,\n",
            "including the possibility of creating a new multilateral organisation to\n",
            "help Global South countries gain a voice and bring to the forefront\n",
            "their collective challenges and priorities in the AI development space.\n",
            "12:00 - 13:30 Side Event 9 (@ This side session aims to forge a path towards a self-sufficient India,\n",
            "Room No. Y): where the startup ecosystem not only thrives on its own merits but\n",
            "also contributes significantly to the global market. It seeks to\n",
            "IndiaAI: From Seed acknowledge the strides made through existing initiatives and\n",
            "to Scale- assess the current landscape. The session will explore strategies to\n",
            "Empowering India’s further bolster this growth, ensuring India's AI startups are well-\n",
            "Startup Ecosystem equipped to innovate and expand, reinforcing India's position as a\n",
            "leader in the global AI industry.\n",
            "GPAI Session (@ Room No. X) : Innovation Workshop Followup\n",
            "Lunch: 13:30 - 14:30\n",
            "14:30 –16:00 Side Event 10 (@ The session aims to explore strategies for developing resilient and\n",
            "Room No. X): scalable data infrastructure to support the growth of the AI\n",
            "ecosystem, with focus on the importance of robust data\n",
            "IndiaAI: Data governance frameworks that ensure data privacy, security, and\n",
            "Ecosystem ethical use. Additionally, the panel will examine the potential for\n",
            "data sharing frameworks and platforms that enable seamless data\n",
            "exchange while maintaining sovereignty and trust. Lastly, the panel\n",
            "will discuss mitigating data bias to ensure ethical and unbiased AI\n",
            "systems by emphasising data quality, representativeness, and\n",
            "fairness.\n",
            "Side Event 11 (@ This session will explore how India is preparing to become \"AI-\n",
            "Room No. Y): ready,\" focusing on the transformative potential of Artificial\n",
            "Intelligence (AI) in public services. To realise this potential, it is\n",
            "crucial to understand the foundational requirements for integratingAI Competency AI seamlessly, including digital expertise among government\n",
            "Framework for officials. The session will reference the UNESCO Report on AI\n",
            "Public Sector competencies for civil servants and examine the Capacity Building\n",
            "Commission's (CBC) framework to develop an AI upskilling\n",
            "roadmap for the Indian public sector. Expert feedback and\n",
            "collaborative discussions will aim to identify specific AI\n",
            "competencies required by public officials and provide actionable\n",
            "guidelines for future training and capacity-building programs.\n",
            "16:30 -18:00 Side Event 12 (@ Building upon the success of the GPAI virtual convening, the\n",
            "Room No. Y): Global India AI summit will include a dedicated session to further\n",
            "critical discourse on the sub-domains of Crop Advisory, Market\n",
            "Sustainable Access and Financial Services for Farmers and Climate Resilient\n",
            "Agriculture Agriculture. This upcoming session aims to showcase case study\n",
            "presentation that will be followed by a panel discussion to explore\n",
            "synergies, and cross sectoral opportunities in implementing AI to\n",
            "enhance yields and inform smallholder farmer efforts for\n",
            "agricultural output\n",
            "18:00: High Tea\n"
          ]
        }
      ],
      "source": [
        "def extract_text_with_pdfplumber(pdf_path):\n",
        "    text = \"\"\n",
        "    with pdfplumber.open(pdf_path) as pdf:\n",
        "        for page in pdf.pages:\n",
        "            text += page.extract_text()\n",
        "    return text\n",
        "\n",
        "# Example usage\n",
        "pdf_path = \"/content/agenda.pdf\"  # Replace with the path to your PDF file\n",
        "extracted_text = extract_text_with_pdfplumber(pdf_path)\n",
        "print(extracted_text)\n"
      ]
    },
    {
      "cell_type": "code",
      "execution_count": 6,
      "metadata": {
        "id": "C1q3uGdNXj-U"
      },
      "outputs": [],
      "source": [
        "# Define a list of questions and their expected answers (true labels)\n",
        "questions_and_answers = [\n",
        "    (\"What is the name of the summit?\", \"Global IndiaAI Summit 2024\"),\n",
        "    (\"When and where is the Global IndiaAI Summit 2024 taking place?\", \"3-4 July 2024, New Delhi\"),\n",
        "    (\"What is the time and venue for the opening ceremony on Day 1?\", \"10:00 - 11:00 at Auditorium 1\"),\n",
        "    (\"What is the GPAI Session about at 11:00 on Day 1?\", \"Executive Council Meeting (By Invitation only)\"),\n",
        "]\n"
      ]
    },
    {
      "cell_type": "code",
      "execution_count": 10,
      "metadata": {
        "colab": {
          "base_uri": "https://localhost:8080/"
        },
        "id": "hVj8FJLPaW_X",
        "outputId": "0a96dd28-8750-4c0f-fa50-10f301499494"
      },
      "outputs": [
        {
          "name": "stdout",
          "output_type": "stream",
          "text": [
            "True Labels:\n",
            "['Global IndiaAI Summit 2024', '3-4 July 2024, New Delhi', '10:00 - 11:00 at Auditorium 1', 'Executive Council Meeting (By Invitation only)']\n",
            "Predicted Labels:\n",
            "['IndiaAI', 'New Delhi', '10:00, Auditorium 1', 'Executive Council Meeting']\n",
            "Precision: 0.75\n",
            "Recall: 0.75\n",
            "F1 Score: 0.75\n"
          ]
        }
      ],
      "source": [
        "# Function to ask questions and get predictions from the model\n",
        "def ask_questions(text, questions_and_answers):\n",
        "    true_labels = []\n",
        "    predicted_labels = []\n",
        "\n",
        "    for question, true_answer in questions_and_answers:\n",
        "        true_labels.append(true_answer)\n",
        "        response = llm.complete(f\"Answer based on the following {text} in one or two words, for the question: {question}\")\n",
        "        predicted_labels.append(response.text)  # Accessing the text attribute directly\n",
        "\n",
        "    return true_labels, predicted_labels\n",
        "\n",
        "# Example usage\n",
        "true_labels, predicted_labels = ask_questions(extracted_text, questions_and_answers)\n",
        "print(\"True Labels:\")\n",
        "print(true_labels)\n",
        "print(\"Predicted Labels:\")\n",
        "print(predicted_labels)\n",
        "\n",
        "\n",
        "def evaluate_model(true_labels, predicted_labels):\n",
        "    correct_count = 0\n",
        "    total_count = len(true_labels)\n",
        "\n",
        "    for true_label, predicted_label in zip(true_labels, predicted_labels):\n",
        "        if true_label in predicted_label or predicted_label in true_label:\n",
        "            correct_count += 1\n",
        "\n",
        "    precision = correct_count / total_count\n",
        "    recall = correct_count / total_count\n",
        "    f1 = 2 * (precision * recall) / (precision + recall) if (precision + recall) > 0 else 0\n",
        "\n",
        "    return precision, recall, f1\n",
        "\n",
        "precision, recall, f1 = evaluate_model(true_labels, predicted_labels)\n",
        "print(f\"Precision: {precision}\")\n",
        "print(f\"Recall: {recall}\")\n",
        "print(f\"F1 Score: {f1}\")\n"
      ]
    },
    {
      "cell_type": "code",
      "execution_count": 11,
      "metadata": {
        "colab": {
          "base_uri": "https://localhost:8080/"
        },
        "id": "-PSBJDYKb6r4",
        "outputId": "3c56f170-f469-4107-fc5b-0802d196f6e6"
      },
      "outputs": [
        {
          "name": "stdout",
          "output_type": "stream",
          "text": [
            "Comparison of True and Predicted Answers:\n",
            "Question 1:\n",
            "True Answer: Global IndiaAI Summit 2024\n",
            "Predicted Answer: IndiaAI\n",
            "--> Score impacted: Check precision and recall for this question.\n",
            "\n",
            "Question 2:\n",
            "True Answer: 3-4 July 2024, New Delhi\n",
            "Predicted Answer: New Delhi\n",
            "--> Score impacted: Check precision and recall for this question.\n",
            "\n",
            "Question 3:\n",
            "True Answer: 10:00 - 11:00 at Auditorium 1\n",
            "Predicted Answer: 10:00, Auditorium 1\n",
            "--> Score impacted: Check precision and recall for this question.\n",
            "\n",
            "Question 4:\n",
            "True Answer: Executive Council Meeting (By Invitation only)\n",
            "Predicted Answer: Executive Council Meeting\n",
            "--> Score impacted: Check precision and recall for this question.\n",
            "\n"
          ]
        }
      ],
      "source": [
        "# Print each question, true answer, and predicted answer\n",
        "print(\"Comparison of True and Predicted Answers:\")\n",
        "for i, (true_label, predicted_label) in enumerate(zip(true_labels, predicted_labels)):\n",
        "    print(f\"Question {i + 1}:\")\n",
        "    print(f\"True Answer: {true_label}\")\n",
        "    print(f\"Predicted Answer: {predicted_label}\")\n",
        "    if true_label != predicted_label:\n",
        "        print(\"--> Score impacted: Check precision and recall for this question.\")\n",
        "    print()\n"
      ]
    },
    {
      "cell_type": "code",
      "execution_count": 12,
      "metadata": {
        "colab": {
          "base_uri": "https://localhost:8080/"
        },
        "id": "lo4aLtl0crj3",
        "outputId": "10ab6cfd-dcaa-41db-b2d6-5301b5825b7a"
      },
      "outputs": [
        {
          "name": "stdout",
          "output_type": "stream",
          "text": [
            "Question 1:\n",
            "True Label: Global IndiaAI Summit 2024\n",
            "Predicted Label: IndiaAI\n",
            "Precision: 1.00\n",
            "Recall: 0.25\n",
            "F1 Score: 0.40\n",
            "\n",
            "Question 2:\n",
            "True Label: 3-4 July 2024, New Delhi\n",
            "Predicted Label: New Delhi\n",
            "Precision: 1.00\n",
            "Recall: 0.40\n",
            "F1 Score: 0.57\n",
            "\n",
            "Question 3:\n",
            "True Label: 10:00 - 11:00 at Auditorium 1\n",
            "Predicted Label: 10:00, Auditorium 1\n",
            "Precision: 0.67\n",
            "Recall: 0.33\n",
            "F1 Score: 0.44\n",
            "\n",
            "Question 4:\n",
            "True Label: Executive Council Meeting (By Invitation only)\n",
            "Predicted Label: Executive Council Meeting\n",
            "Precision: 1.00\n",
            "Recall: 0.50\n",
            "F1 Score: 0.67\n",
            "\n"
          ]
        }
      ],
      "source": [
        "def evaluate_questions(true_labels, predicted_labels):\n",
        "    results = []\n",
        "\n",
        "    for true_label, predicted_label in zip(true_labels, predicted_labels):\n",
        "        true_set = set(true_label.lower().split())\n",
        "        predicted_set = set(predicted_label.lower().split())\n",
        "\n",
        "        # Calculate metrics\n",
        "        intersection = true_set.intersection(predicted_set)\n",
        "        precision = len(intersection) / len(predicted_set) if len(predicted_set) > 0 else 0\n",
        "        recall = len(intersection) / len(true_set) if len(true_set) > 0 else 0\n",
        "        f1 = 2 * (precision * recall) / (precision + recall) if (precision + recall) > 0 else 0\n",
        "\n",
        "        results.append({\n",
        "            \"True Label\": true_label,\n",
        "            \"Predicted Label\": predicted_label,\n",
        "            \"Precision\": precision,\n",
        "            \"Recall\": recall,\n",
        "            \"F1 Score\": f1\n",
        "        })\n",
        "\n",
        "    return results\n",
        "\n",
        "# Evaluate questions\n",
        "evaluation_results = evaluate_questions(true_labels, predicted_labels)\n",
        "\n",
        "# Display results for each question\n",
        "for i, result in enumerate(evaluation_results):\n",
        "    print(f\"Question {i + 1}:\")\n",
        "    print(f\"True Label: {result['True Label']}\")\n",
        "    print(f\"Predicted Label: {result['Predicted Label']}\")\n",
        "    print(f\"Precision: {result['Precision']:.2f}\")\n",
        "    print(f\"Recall: {result['Recall']:.2f}\")\n",
        "    print(f\"F1 Score: {result['F1 Score']:.2f}\")\n",
        "    print()\n"
      ]
    }
  ],
  "metadata": {
    "colab": {
      "provenance": []
    },
    "kernelspec": {
      "display_name": "Python 3",
      "name": "python3"
    },
    "language_info": {
      "name": "python"
    }
  },
  "nbformat": 4,
  "nbformat_minor": 0
}
