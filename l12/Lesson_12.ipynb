{
  "nbformat": 4,
  "nbformat_minor": 0,
  "metadata": {
    "colab": {
      "provenance": []
    },
    "kernelspec": {
      "name": "python3",
      "display_name": "Python 3"
    },
    "language_info": {
      "name": "python"
    }
  },
  "cells": [
    {
      "cell_type": "markdown",
      "source": [
        "Create the below 4 files in github"
      ],
      "metadata": {
        "id": "jKE_jYYyqr61"
      }
    },
    {
      "cell_type": "markdown",
      "source": [
        "Filename. - **main.py**"
      ],
      "metadata": {
        "id": "V3gTNzhdNOgr"
      }
    },
    {
      "cell_type": "code",
      "source": [
        "import streamlit as st\n",
        "from llama_index.llms.groq import Groq\n",
        "from dotenv import load_dotenv\n",
        "import os\n",
        "\n",
        "# Load the environment variables from .env file\n",
        "load_dotenv()\n",
        "\n",
        "# Fetch the API key from the environment variable\n",
        "api_key = os.getenv(\"GROQ_API_KEY\")\n",
        "\n",
        "# Initialize the Groq model\n",
        "llm = Groq(model=\"llama3-70b-8192\", api_key=api_key)\n",
        "\n",
        "def summarize_text(text, summary_type):\n",
        "    if summary_type == \"Normal Summary\":\n",
        "        prompt = f\"Summarize the text: {text}\"\n",
        "    elif summary_type == \"Short Summary\":\n",
        "        prompt = f\"Summarize the text in 10 words: {text}\"\n",
        "    elif summary_type == \"Simple Summary\":\n",
        "        prompt = f\"Summarize the text in layman terms: {text}\"\n",
        "    elif summary_type == \"Bullet Point Summary\":\n",
        "        prompt = f\"Summarize the text in 3 bullet points: {text}\"\n",
        "\n",
        "    response = llm.complete(prompt)\n",
        "    return response\n",
        "\n",
        "# Streamlit app\n",
        "st.title(\"📄 Text Summarizer 🤖\")\n",
        "\n",
        "# Text input area\n",
        "text = st.text_area(\"Enter a large text paragraph\")\n",
        "\n",
        "# Buttons for different summaries\n",
        "if st.button(\"Normal Summary 💡\"):\n",
        "    if text:\n",
        "        summary = summarize_text(text, \"Normal Summary\")\n",
        "        st.write(\"### Normal Summary 💡\")\n",
        "        st.write(summary)\n",
        "    else:\n",
        "        st.write(\"Please enter some text to summarize.\")\n",
        "\n",
        "if st.button(\"Short Summary 💬\"):\n",
        "    if text:\n",
        "        summary = summarize_text(text, \"Short Summary\")\n",
        "        st.write(\"### Short Summary 💬\")\n",
        "        st.write(summary)\n",
        "    else:\n",
        "        st.write(\"Please enter some text to summarize.\")\n",
        "\n",
        "if st.button(\"Simple Summary 🔖\"):\n",
        "    if text:\n",
        "        summary = summarize_text(text, \"Simple Summary\")\n",
        "        st.write(\"### Simple Summary 🔖\")\n",
        "        st.write(summary)\n",
        "    else:\n",
        "        st.write(\"Please enter some text to summarize.\")\n",
        "\n",
        "if st.button(\"Bullet Point Summary 🎯\"):\n",
        "    if text:\n",
        "        summary = summarize_text(text, \"Bullet Point Summary\")\n",
        "        st.write(\"### Bullet Point Summary 🎯\")\n",
        "        st.write(summary)\n",
        "    else:\n",
        "        st.write(\"Please enter some text to summarize.\")\n",
        "\n",
        "# Add a footer\n",
        "st.markdown(\"---\")\n",
        "st.markdown(\"Made by Arvin\")"
      ],
      "metadata": {
        "id": "525uLJLJKSBI"
      },
      "execution_count": null,
      "outputs": []
    },
    {
      "cell_type": "markdown",
      "source": [
        "Filename - **requirements.txt**"
      ],
      "metadata": {
        "id": "THNCdvCZNiEX"
      }
    },
    {
      "cell_type": "code",
      "source": [
        "streamlit\n",
        "llama_index\n",
        "python-dotenv\n",
        "llama-index-llms-groq"
      ],
      "metadata": {
        "id": "c66vrcPlOD0X"
      },
      "execution_count": null,
      "outputs": []
    },
    {
      "cell_type": "markdown",
      "source": [
        "File name - **.env**"
      ],
      "metadata": {
        "id": "5Feu0gUFqkK5"
      }
    },
    {
      "cell_type": "code",
      "source": [
        "GROQ_API_KEY= \"add-your-groq-api-key\""
      ],
      "metadata": {
        "id": "3zRYH2obqxBZ"
      },
      "execution_count": null,
      "outputs": []
    },
    {
      "cell_type": "markdown",
      "source": [
        "**Code to run the application**"
      ],
      "metadata": {
        "id": "TjJBIa-lZE2_"
      }
    },
    {
      "cell_type": "code",
      "source": [
        "pip install -r requirements.txt\n"
      ],
      "metadata": {
        "id": "GQkeEWCpZJKW"
      },
      "execution_count": null,
      "outputs": []
    },
    {
      "cell_type": "code",
      "source": [
        "streamlit run main.py"
      ],
      "metadata": {
        "id": "lXl22H68qfm3"
      },
      "execution_count": null,
      "outputs": []
    },
    {
      "cell_type": "markdown",
      "source": [
        "1. Open the repository in codespaces\n",
        "2. wait for the python 3.10 to load\n",
        "3. open terminal (antenna symbol in the below)\n",
        "4. type the command. - \"pip install -r requirements.txt\" and run\n",
        "5. type the command - \"python -m streamlit run main.py\""
      ],
      "metadata": {
        "id": "KWjIFbZ1rDmb"
      }
    },
    {
      "cell_type": "markdown",
      "source": [
        "1. Open share.streamlit.io website\n",
        "2. Log in with github\n",
        "3. and connect your github\n",
        "4. create an app\n",
        "5. place the link of the github repository\n",
        "6. give main.py as file name\n",
        "7. create app\n",
        "8. in sometime app will be created.\n",
        "9. share the link with others."
      ],
      "metadata": {
        "id": "ymbiLq58rJla"
      }
    },
    {
      "cell_type": "markdown",
      "source": [
        "After deploying in streamlit,\n",
        "1. go to github\n",
        "2. open repository\n",
        "3. delete the .env file\n",
        "4. and click on reboot app on streamlit\n",
        "5. the application will not open\n",
        "6. then click on setting , copy the api key (.env file) and place it in secrets section\n",
        "7. now the application will work"
      ],
      "metadata": {
        "id": "T_U8KsXwqZAb"
      }
    },
    {
      "cell_type": "code",
      "source": [],
      "metadata": {
        "id": "J42OSLh0qcyT"
      },
      "execution_count": null,
      "outputs": []
    }
  ]
}