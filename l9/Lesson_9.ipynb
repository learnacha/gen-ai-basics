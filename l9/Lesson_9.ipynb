{
  "nbformat": 4,
  "nbformat_minor": 0,
  "metadata": {
    "colab": {
      "provenance": []
    },
    "kernelspec": {
      "name": "python3",
      "display_name": "Python 3"
    },
    "language_info": {
      "name": "python"
    }
  },
  "cells": [
    {
      "cell_type": "markdown",
      "source": [
        " **Introduction to Streamlit**"
      ],
      "metadata": {
        "id": "RsHt4hvlJu_N"
      }
    },
    {
      "cell_type": "markdown",
      "source": [
        "1. Open Github account.\n",
        "2.Create a Public Repository.\n",
        "3. Create the following three files."
      ],
      "metadata": {
        "id": "H2qKkZc1VrTa"
      }
    },
    {
      "cell_type": "markdown",
      "source": [
        "File name - **main.py**"
      ],
      "metadata": {
        "id": "BSdEx8xgV2iy"
      }
    },
    {
      "cell_type": "code",
      "source": [
        "import streamlit as st\n",
        "from groq import Groq\n",
        "from dotenv import load_dotenv\n",
        "import os\n",
        "\n",
        "# Load environment variables from the .env file\n",
        "load_dotenv()\n",
        "\n",
        "# Fetch the GROQ_API_KEY from the environment variables\n",
        "GROQ_API_KEY = os.getenv('GROQ_API_KEY')\n",
        "\n",
        "# Initialize the Groq client\n",
        "client = Groq(api_key=GROQ_API_KEY)\n",
        "MODEL = 'llama3-70b-8192'\n",
        "\n",
        "def get_groq_response(question):\n",
        "    messages = [\n",
        "        {\n",
        "            \"role\": \"system\",\n",
        "            \"content\": \"You are an AI assistant that answers questions.\"\n",
        "        },\n",
        "        {\n",
        "            \"role\": \"user\",\n",
        "            \"content\": question,\n",
        "        }\n",
        "    ]\n",
        "\n",
        "    response = client.chat.completions.create(\n",
        "        model=MODEL,\n",
        "        messages=messages,\n",
        "        max_tokens=4096\n",
        "    )\n",
        "\n",
        "    return response.choices[0].message.content\n",
        "\n",
        "# Streamlit app title\n",
        "st.title(\"Simple Search App\")\n",
        "\n",
        "# Input box for user query\n",
        "query = st.text_input(\"Enter your query:\")\n",
        "\n",
        "# Button to get response\n",
        "if st.button(\"Search\"):\n",
        "    if query:\n",
        "        # Get the response from the Groq model\n",
        "        response = get_groq_response(query)\n",
        "        # Display the response\n",
        "        st.write(\"Response:\", response)\n",
        "    else:\n",
        "        st.write(\"Please enter a query.\")"
      ],
      "metadata": {
        "id": "MTizhuT8VqTt"
      },
      "execution_count": null,
      "outputs": []
    },
    {
      "cell_type": "markdown",
      "source": [
        "File name. - **requirements.txt**"
      ],
      "metadata": {
        "id": "2qBg5iedWIKX"
      }
    },
    {
      "cell_type": "code",
      "source": [
        "streamlit==1.27.2  # currently pinned to this version\n",
        "groq\n",
        "python-dotenv"
      ],
      "metadata": {
        "id": "T_gtoJ9OWL4j"
      },
      "execution_count": null,
      "outputs": []
    },
    {
      "cell_type": "markdown",
      "source": [
        "File name - .env"
      ],
      "metadata": {
        "id": "K2kJc62NWPu6"
      }
    },
    {
      "cell_type": "code",
      "source": [
        "GROQ_API_KEY='place_your_groq_key_here'"
      ],
      "metadata": {
        "id": "c1_kDSGNWR-U"
      },
      "execution_count": null,
      "outputs": []
    },
    {
      "cell_type": "markdown",
      "source": [
        "1. Open the repository in codespaces\n",
        "2. wait for the python 3.10 to load\n",
        "3. open terminal (antenna symbol in the below)\n",
        "4. type the command. - \"pip install -r requirements.txt\" and run\n",
        "5. type the command - \"python -m streamlit run main.py\""
      ],
      "metadata": {
        "id": "MMiCdZERWZL9"
      }
    },
    {
      "cell_type": "markdown",
      "source": [
        "1. Open share.streamlit.io website\n",
        "2. Log in with github\n",
        "3. and connect your github\n",
        "4. create an app\n",
        "5. place the link of the github repository\n",
        "6. give main.py as file name\n",
        "7. create app\n",
        "8. in sometime app will be created.\n",
        "9. share the link with others."
      ],
      "metadata": {
        "id": "NYBEigGoWvy0"
      }
    },
    {
      "cell_type": "code",
      "source": [],
      "metadata": {
        "id": "JXCC7LRNWbYA"
      },
      "execution_count": null,
      "outputs": []
    }
  ]
}