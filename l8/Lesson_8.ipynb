{
  "nbformat": 4,
  "nbformat_minor": 0,
  "metadata": {
    "colab": {
      "provenance": []
    },
    "kernelspec": {
      "name": "python3",
      "display_name": "Python 3"
    },
    "language_info": {
      "name": "python"
    }
  },
  "cells": [
    {
      "cell_type": "code",
      "execution_count": 1,
      "metadata": {
        "colab": {
          "base_uri": "https://localhost:8080/"
        },
        "id": "OrbuC8sjxk_D",
        "outputId": "36242a89-ec75-456b-b253-230f8088698c"
      },
      "outputs": [
        {
          "output_type": "stream",
          "name": "stdout",
          "text": [
            "Collecting groq\n",
            "  Downloading groq-0.9.0-py3-none-any.whl.metadata (13 kB)\n",
            "Requirement already satisfied: anyio<5,>=3.5.0 in /usr/local/lib/python3.10/dist-packages (from groq) (3.7.1)\n",
            "Requirement already satisfied: distro<2,>=1.7.0 in /usr/lib/python3/dist-packages (from groq) (1.7.0)\n",
            "Collecting httpx<1,>=0.23.0 (from groq)\n",
            "  Downloading httpx-0.27.0-py3-none-any.whl.metadata (7.2 kB)\n",
            "Requirement already satisfied: pydantic<3,>=1.9.0 in /usr/local/lib/python3.10/dist-packages (from groq) (2.8.2)\n",
            "Requirement already satisfied: sniffio in /usr/local/lib/python3.10/dist-packages (from groq) (1.3.1)\n",
            "Requirement already satisfied: typing-extensions<5,>=4.7 in /usr/local/lib/python3.10/dist-packages (from groq) (4.12.2)\n",
            "Requirement already satisfied: idna>=2.8 in /usr/local/lib/python3.10/dist-packages (from anyio<5,>=3.5.0->groq) (3.7)\n",
            "Requirement already satisfied: exceptiongroup in /usr/local/lib/python3.10/dist-packages (from anyio<5,>=3.5.0->groq) (1.2.2)\n",
            "Requirement already satisfied: certifi in /usr/local/lib/python3.10/dist-packages (from httpx<1,>=0.23.0->groq) (2024.7.4)\n",
            "Collecting httpcore==1.* (from httpx<1,>=0.23.0->groq)\n",
            "  Downloading httpcore-1.0.5-py3-none-any.whl.metadata (20 kB)\n",
            "Collecting h11<0.15,>=0.13 (from httpcore==1.*->httpx<1,>=0.23.0->groq)\n",
            "  Downloading h11-0.14.0-py3-none-any.whl.metadata (8.2 kB)\n",
            "Requirement already satisfied: annotated-types>=0.4.0 in /usr/local/lib/python3.10/dist-packages (from pydantic<3,>=1.9.0->groq) (0.7.0)\n",
            "Requirement already satisfied: pydantic-core==2.20.1 in /usr/local/lib/python3.10/dist-packages (from pydantic<3,>=1.9.0->groq) (2.20.1)\n",
            "Downloading groq-0.9.0-py3-none-any.whl (103 kB)\n",
            "\u001b[2K   \u001b[90m━━━━━━━━━━━━━━━━━━━━━━━━━━━━━━━━━━━━━━━━\u001b[0m \u001b[32m103.5/103.5 kB\u001b[0m \u001b[31m1.4 MB/s\u001b[0m eta \u001b[36m0:00:00\u001b[0m\n",
            "\u001b[?25hDownloading httpx-0.27.0-py3-none-any.whl (75 kB)\n",
            "\u001b[2K   \u001b[90m━━━━━━━━━━━━━━━━━━━━━━━━━━━━━━━━━━━━━━━━\u001b[0m \u001b[32m75.6/75.6 kB\u001b[0m \u001b[31m2.4 MB/s\u001b[0m eta \u001b[36m0:00:00\u001b[0m\n",
            "\u001b[?25hDownloading httpcore-1.0.5-py3-none-any.whl (77 kB)\n",
            "\u001b[2K   \u001b[90m━━━━━━━━━━━━━━━━━━━━━━━━━━━━━━━━━━━━━━━━\u001b[0m \u001b[32m77.9/77.9 kB\u001b[0m \u001b[31m3.6 MB/s\u001b[0m eta \u001b[36m0:00:00\u001b[0m\n",
            "\u001b[?25hDownloading h11-0.14.0-py3-none-any.whl (58 kB)\n",
            "\u001b[2K   \u001b[90m━━━━━━━━━━━━━━━━━━━━━━━━━━━━━━━━━━━━━━━━\u001b[0m \u001b[32m58.3/58.3 kB\u001b[0m \u001b[31m2.6 MB/s\u001b[0m eta \u001b[36m0:00:00\u001b[0m\n",
            "\u001b[?25hInstalling collected packages: h11, httpcore, httpx, groq\n",
            "Successfully installed groq-0.9.0 h11-0.14.0 httpcore-1.0.5 httpx-0.27.0\n"
          ]
        }
      ],
      "source": [
        "!pip install groq"
      ]
    },
    {
      "cell_type": "code",
      "source": [
        "from groq import Groq\n",
        "import os\n",
        "import json"
      ],
      "metadata": {
        "id": "E8HILi5Ax2Eu"
      },
      "execution_count": 2,
      "outputs": []
    },
    {
      "cell_type": "code",
      "source": [
        "GROQ_API_KEY = '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'\n",
        "client = Groq(api_key=GROQ_API_KEY)\n",
        "MODEL = 'llama3-70b-8192'\n"
      ],
      "metadata": {
        "id": "DjiOqkAiyBvU"
      },
      "execution_count": 3,
      "outputs": []
    },
    {
      "cell_type": "code",
      "source": [
        "def get_response(question):\n",
        "    return json.dumps({\"question\": question})\n",
        "\n",
        "def mutual_fund(fund_name):\n",
        "    if \"growth\" in fund_name.lower():\n",
        "        return json.dumps({\"fund_name\": \"Growth Fund\", \"nav\": 150.75, \"1_year_return\": \"12.5%\"})\n",
        "    elif \"income\" in fund_name.lower():\n",
        "        return json.dumps({\"fund_name\": \"Income Fund\", \"nav\": 102.50, \"1_year_return\": \"8.4%\"})\n",
        "    else:\n",
        "        return json.dumps({\"fund_name\": fund_name, \"details\": \"sorry the fund name is not valid\"})\n",
        "\n",
        "def upi(transaction_id):\n",
        "    if transaction_id == \"TX123\":\n",
        "        return json.dumps({\"transaction_id\": \"TX123\", \"status\": \"Success\", \"amount\": 1500})\n",
        "    else:\n",
        "        return json.dumps({\"transaction_id\": transaction_id, \"status\": \"Transaction Id Unknown. Try Again\"})\n",
        "\n",
        "def health_insurance(policy_number):\n",
        "    if policy_number == \"HP001\":\n",
        "        return json.dumps({\"policy_number\": \"HP001\", \"coverage\": \"500000\", \"premium\": \"12000\", \"status\": \"Active\"})\n",
        "    if policy_number == \"HP002\":\n",
        "        return json.dumps({\"policy_number\": \"HP002\", \"coverage\": \"10000\", \"premium\": \"2000\", \"status\": \"Going to expire in 2 days.\"})\n",
        "    else:\n",
        "        return json.dumps({\"policy_number\": policy_number, \"details\": \"Incorrect policy number. try again\"})\n",
        "\n",
        "def cash_loan(loan_id):\n",
        "    if loan_id == \"LN123\":\n",
        "        return json.dumps({\"loan_id\": \"LN123\", \"amount\": \"20000\", \"interest_rate\": \"12%\", \"status\": \"Approved\"})\n",
        "    else:\n",
        "        return json.dumps({\"loan_id\": loan_id, \"details\": \"unknown\"})"
      ],
      "metadata": {
        "id": "Wj3gfiCQziR5"
      },
      "execution_count": 4,
      "outputs": []
    },
    {
      "cell_type": "code",
      "source": [
        "tools = [\n",
        "    {\n",
        "        \"type\": \"function\",\n",
        "        \"function\": {\n",
        "            \"name\": \"get_response\",\n",
        "            \"description\": \"Responding to casual chat\",\n",
        "            \"parameters\": {\n",
        "                \"type\": \"object\",\n",
        "                \"properties\": {\n",
        "                    \"question\": {\n",
        "                        \"type\": \"string\",\n",
        "                        \"description\": \"Responding to casual chat\",\n",
        "                    }\n",
        "                },\n",
        "                \"required\": [\"question\"],\n",
        "            },\n",
        "        },\n",
        "    },\n",
        "    {\n",
        "        \"type\": \"function\",\n",
        "        \"function\": {\n",
        "            \"name\": \"mutual_fund\",\n",
        "            \"description\": \"Get the details of a mutual fund\",\n",
        "            \"parameters\": {\n",
        "                \"type\": \"object\",\n",
        "                \"properties\": {\n",
        "                    \"fund_name\": {\n",
        "                        \"type\": \"string\",\n",
        "                        \"description\": \"The name of the mutual fund (e.g. 'Growth Fund')\",\n",
        "                    }\n",
        "                },\n",
        "                \"required\": [\"fund_name\"],\n",
        "            },\n",
        "        },\n",
        "    },\n",
        "    {\n",
        "        \"type\": \"function\",\n",
        "        \"function\": {\n",
        "            \"name\": \"upi\",\n",
        "            \"description\": \"Get the status of a UPI transaction\",\n",
        "            \"parameters\": {\n",
        "                \"type\": \"object\",\n",
        "                \"properties\": {\n",
        "                    \"transaction_id\": {\n",
        "                        \"type\": \"string\",\n",
        "                        \"description\": \"The ID of the UPI transaction (e.g. 'TX123')\",\n",
        "                    }\n",
        "                },\n",
        "                \"required\": [\"transaction_id\"],\n",
        "            },\n",
        "        },\n",
        "    },\n",
        "    {\n",
        "        \"type\": \"function\",\n",
        "        \"function\": {\n",
        "            \"name\": \"health_insurance\",\n",
        "            \"description\": \"Get the details of a health insurance policy\",\n",
        "            \"parameters\": {\n",
        "                \"type\": \"object\",\n",
        "                \"properties\": {\n",
        "                    \"policy_number\": {\n",
        "                        \"type\": \"string\",\n",
        "                        \"description\": \"The policy number of the health insurance (e.g. 'HP001')\",\n",
        "                    }\n",
        "                },\n",
        "                \"required\": [\"policy_number\"],\n",
        "            },\n",
        "        },\n",
        "    },\n",
        "    {\n",
        "        \"type\": \"function\",\n",
        "        \"function\": {\n",
        "            \"name\": \"cash_loan\",\n",
        "            \"description\": \"Get the details of a cash loan\",\n",
        "            \"parameters\": {\n",
        "                \"type\": \"object\",\n",
        "                \"properties\": {\n",
        "                    \"loan_id\": {\n",
        "                        \"type\": \"string\",\n",
        "                        \"description\": \"The ID of the cash loan (e.g. 'LN123')\",\n",
        "                    }\n",
        "                },\n",
        "                \"required\": [\"loan_id\"],\n",
        "            },\n",
        "        },\n",
        "    }\n",
        "]\n"
      ],
      "metadata": {
        "id": "1zhv3YuOzmSp"
      },
      "execution_count": 5,
      "outputs": []
    },
    {
      "cell_type": "code",
      "source": [
        "def run_conversation(user_prompt):\n",
        "    messages = [\n",
        "        {\n",
        "            \"role\": \"system\",\n",
        "            \"content\": \"You are a function calling LLM that uses the data extracted from the functions to answer questions around mutual funds, UPI transactions, health insurance policies, and cash loans.\"\n",
        "        },\n",
        "        {\n",
        "            \"role\": \"user\",\n",
        "            \"content\": user_prompt,\n",
        "        }\n",
        "    ]\n",
        "\n",
        "    response = client.chat.completions.create(\n",
        "        model=MODEL,\n",
        "        messages=messages,\n",
        "        tools=tools,\n",
        "        tool_choice=\"auto\",\n",
        "        max_tokens=4096\n",
        "    )\n",
        "\n",
        "    response_message = response.choices[0].message\n",
        "    tool_calls = response_message.tool_calls\n",
        "\n",
        "    if tool_calls:\n",
        "        available_functions = {\n",
        "            \"get_response\": get_response,\n",
        "            \"mutual_fund\": mutual_fund,\n",
        "            \"upi\": upi,\n",
        "            \"health_insurance\": health_insurance,\n",
        "            \"cash_loan\": cash_loan,\n",
        "        }\n",
        "        messages.append(response_message)\n",
        "\n",
        "        for tool_call in tool_calls:\n",
        "            function_name = tool_call.function.name\n",
        "            function_to_call = available_functions[function_name]\n",
        "            function_args = json.loads(tool_call.function.arguments)\n",
        "            function_response = function_to_call(**function_args)\n",
        "\n",
        "            messages.append({\n",
        "                \"tool_call_id\": tool_call.id,\n",
        "                \"role\": \"tool\",\n",
        "                \"name\": function_name,\n",
        "                \"content\": function_response,\n",
        "            })\n",
        "\n",
        "        second_response = client.chat.completions.create(\n",
        "            model=MODEL,\n",
        "            messages=messages\n",
        "        )\n",
        "        final_response = second_response.choices[0].message.content\n",
        "    else:\n",
        "        response = client.chat.completions.create(\n",
        "            model=MODEL,\n",
        "            messages=messages,\n",
        "            max_tokens=4096\n",
        "        )\n",
        "        messages.append(response_message)\n",
        "        final_response = response.choices[0].message.content\n",
        "\n",
        "    return final_response"
      ],
      "metadata": {
        "id": "7Gpe23Co0AJS"
      },
      "execution_count": 6,
      "outputs": []
    },
    {
      "cell_type": "code",
      "source": [
        "# Example user prompt to test the function\n",
        "user_prompt = \"Can you tell me the status of UPI transcation TX123?\"\n",
        "\n",
        "# Run the conversation and print the output\n",
        "output = run_conversation(user_prompt)\n",
        "print(output)\n"
      ],
      "metadata": {
        "colab": {
          "base_uri": "https://localhost:8080/"
        },
        "id": "tYfmQtgY0PPM",
        "outputId": "51e6ab7b-50e9-4c5e-831c-a7f451f0d97d"
      },
      "execution_count": 13,
      "outputs": [
        {
          "output_type": "stream",
          "name": "stdout",
          "text": [
            "Thank you for providing the output of the tool call. According to the output, the status of UPI transaction TX123 is \"Success\" and the amount involved is ₹1500.\n"
          ]
        }
      ]
    }
  ]
}